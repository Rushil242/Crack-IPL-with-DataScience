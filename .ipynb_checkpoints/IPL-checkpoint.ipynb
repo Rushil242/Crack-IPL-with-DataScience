{
 "cells": [
  {
   "cell_type": "code",
   "execution_count": 3,
   "id": "247065b0-1121-46c3-bab4-2399992d51e0",
   "metadata": {},
   "outputs": [],
   "source": [
    "import numpy as np\n",
    "import pandas as pd\n",
    "import matplotlib.pyplot as plt\n",
    "from collections import Counter"
   ]
  },
  {
   "cell_type": "code",
   "execution_count": 4,
   "id": "1c097baf-e162-4ff4-b608-4a0e656dac2e",
   "metadata": {},
   "outputs": [],
   "source": [
    "df_m = pd.read_csv(r\"C:\\Users\\tharu\\OneDrive\\Documents\\course certificates\\iplall\\matches.csv\")\n",
    "df_d = pd.read_csv(r\"C:\\Users\\tharu\\OneDrive\\Documents\\course certificates\\iplall\\deliveries.csv\")"
   ]
  },
  {
   "cell_type": "code",
   "execution_count": 5,
   "id": "9749be14-85fa-402b-8890-5cff9a8d7181",
   "metadata": {},
   "outputs": [
    {
     "name": "stdout",
     "output_type": "stream",
     "text": [
      "Index(['id', 'season', 'city', 'date', 'match_type', 'player_of_match',\n",
      "       'venue', 'team1', 'team2', 'toss_winner', 'toss_decision', 'winner',\n",
      "       'result', 'result_margin', 'target_runs', 'target_overs', 'super_over',\n",
      "       'method', 'umpire1', 'umpire2'],\n",
      "      dtype='object')\n",
      "Index(['match_id', 'inning', 'batting_team', 'bowling_team', 'over', 'ball',\n",
      "       'batter', 'bowler', 'non_striker', 'batsman_runs', 'extra_runs',\n",
      "       'total_runs', 'extras_type', 'is_wicket', 'player_dismissed',\n",
      "       'dismissal_kind', 'fielder'],\n",
      "      dtype='object')\n"
     ]
    }
   ],
   "source": [
    "print(df_m.columns)\n",
    "print(df_d.columns)"
   ]
  },
  {
   "cell_type": "code",
   "execution_count": 6,
   "id": "591995f1-c0b5-4329-98a1-8a2211a91944",
   "metadata": {},
   "outputs": [],
   "source": [
    "df_finals = df_m[df_m['match_type'] == 'Final']"
   ]
  },
  {
   "cell_type": "markdown",
   "id": "1c5d4079-e4e1-4e1c-8449-45e3d0c0f50c",
   "metadata": {},
   "source": [
    "## Determining which toss choice got a higher probability of winning in the finals."
   ]
  },
  {
   "cell_type": "code",
   "execution_count": 96,
   "id": "5e71b96f-6867-4ae5-85b2-e811e7d29df1",
   "metadata": {},
   "outputs": [],
   "source": [
    "df_toss = df_finals[['toss_winner','toss_decision','winner']]\n",
    "win = np.array([])"
   ]
  },
  {
   "cell_type": "code",
   "execution_count": 98,
   "id": "508ccc99-b237-45e1-bf6b-a9cd1745ce5a",
   "metadata": {},
   "outputs": [
    {
     "name": "stdout",
     "output_type": "stream",
     "text": [
      "['field' 'bat' 'bat' 'bat' 'field' 'bat' 'field' 'bat' 'bat' 'bat' 'field'\n",
      " 'bat' 'field' 'bat' 'field' 'field' 'field']\n"
     ]
    }
   ],
   "source": [
    "for index, row in df_toss.iterrows():\n",
    "    if row['toss_winner'] == row['winner']:\n",
    "        win = np.append(win, row['toss_decision'])\n",
    "    else :\n",
    "        if row['toss_decision'] == \"bat\":\n",
    "            win = np.append(win, \"field\")\n",
    "        else :\n",
    "            win = np.append(win, \"bat\")\n",
    "print(win)"
   ]
  },
  {
   "cell_type": "code",
   "execution_count": 18,
   "id": "affb4975-acc4-408e-94d3-dd7311f6a725",
   "metadata": {},
   "outputs": [],
   "source": [
    "frequency = Counter(win)\n",
    "labels = list(frequency.keys())\n",
    "counts = list(frequency.values())\n"
   ]
  },
  {
   "cell_type": "code",
   "execution_count": 20,
   "id": "04cc0bce-a98e-44f9-8ca8-9ef6f5248dbe",
   "metadata": {},
   "outputs": [
    {
     "data": {
      "image/png": "[encoded data removed]",
      "text/plain": [
       "<Figure size 640x480 with 1 Axes>"
      ]
     },
     "metadata": {},
     "output_type": "display_data"
    }
   ],
   "source": [
    "plt.bar(labels, counts, color=['blue', 'orange'])\n",
    "\n",
    "counts = [int(count) for count in counts]\n",
    "\n",
    "plt.title('Frequency of \"bat\" and \"field\" Choices')\n",
    "plt.xlabel('1st innings of winners')\n",
    "plt.ylabel('Frequency')\n",
    "\n",
    "plt.ylim(0, max(counts) + 1) \n",
    "\n",
    "\n",
    "for i, count in enumerate(counts):\n",
    "    plt.text(i, count + 0.1, str(count), ha='center', va='bottom')\n",
    "plt.show()"
   ]
  },
  {
   "cell_type": "markdown",
   "id": "023a56a5-1603-4f79-a213-9b9d803a71b3",
   "metadata": {},
   "source": [
    "### Result - Based on the details of pitch of the ground (batting / bowling pitch) it will be choosen but there is no probabilty luck "
   ]
  },
  {
   "cell_type": "markdown",
   "id": "624362a9-f4b0-4836-bb87-a77447a6c751",
   "metadata": {},
   "source": [
    "# Strength and Weakness "
   ]
  },
  {
   "cell_type": "markdown",
   "id": "a39aa712-9bec-4182-8453-a2dc2aeeccd4",
   "metadata": {},
   "source": [
    "## 1. Virat Kholi"
   ]
  },
  {
   "cell_type": "markdown",
   "id": "208ed1e2-2191-40ce-88ad-fc280640f16c",
   "metadata": {},
   "source": [
    "### No.of Player of the match titles"
   ]
  },
  {
   "cell_type": "code",
   "execution_count": 81,
   "id": "7ab1dfbd-0dd4-4e5a-be2d-98eea49eae79",
   "metadata": {},
   "outputs": [
    {
     "name": "stdout",
     "output_type": "stream",
     "text": [
      "Player of the matches =  18\n"
     ]
    }
   ],
   "source": [
    "df_pom = df_m[df_m['player_of_match'] == 'V Kohli']\n",
    "\n",
    "player_of_matches = df_pom.shape[0]\n",
    "print(\"Player of the matches = \", player_of_matches)"
   ]
  },
  {
   "cell_type": "markdown",
   "id": "e05533d0-6d14-4a54-80cb-23eeee0ff56f",
   "metadata": {},
   "source": [
    "#### Player of the matches =  jersey lol "
   ]
  },
  {
   "cell_type": "code",
   "execution_count": 79,
   "id": "484a23a2-0e11-465c-a45e-3be6ae0377c9",
   "metadata": {},
   "outputs": [
    {
     "name": "stdout",
     "output_type": "stream",
     "text": [
      "player_of_match\n",
      "AB de Villiers     25\n",
      "CH Gayle           22\n",
      "RG Sharma          19\n",
      "DA Warner          18\n",
      "V Kohli            18\n",
      "Name: count, dtype: int64\n"
     ]
    }
   ],
   "source": [
    "frequency = df_m[['player_of_match']].value_counts()\n",
    "\n",
    "print(frequency.head(5))"
   ]
  },
  {
   "cell_type": "code",
   "execution_count": 94,
   "id": "34d81190-ee8b-4bd1-a7c4-0ac5812bde3d",
   "metadata": {},
   "outputs": [
    {
     "data": {
      "text/html": [
       "<div>\n",
       "<style scoped>\n",
       "    .dataframe tbody tr th:only-of-type {\n",
       "        vertical-align: middle;\n",
       "    }\n",
       "\n",
       "    .dataframe tbody tr th {\n",
       "        vertical-align: top;\n",
       "    }\n",
       "\n",
       "    .dataframe thead th {\n",
       "        text-align: right;\n",
       "    }\n",
       "</style>\n",
       "<table border=\"1\" class=\"dataframe\">\n",
       "  <thead>\n",
       "    <tr style=\"text-align: right;\">\n",
       "      <th></th>\n",
       "      <th>match_id</th>\n",
       "      <th>inning</th>\n",
       "      <th>batting_team</th>\n",
       "      <th>bowling_team</th>\n",
       "      <th>over</th>\n",
       "      <th>ball</th>\n",
       "      <th>batter</th>\n",
       "      <th>bowler</th>\n",
       "      <th>non_striker</th>\n",
       "      <th>batsman_runs</th>\n",
       "      <th>extra_runs</th>\n",
       "      <th>total_runs</th>\n",
       "      <th>extras_type</th>\n",
       "      <th>is_wicket</th>\n",
       "      <th>player_dismissed</th>\n",
       "      <th>dismissal_kind</th>\n",
       "      <th>fielder</th>\n",
       "    </tr>\n",
       "  </thead>\n",
       "  <tbody>\n",
       "    <tr>\n",
       "      <th>132</th>\n",
       "      <td>335982</td>\n",
       "      <td>2</td>\n",
       "      <td>Royal Challengers Bangalore</td>\n",
       "      <td>Kolkata Knight Riders</td>\n",
       "      <td>1</td>\n",
       "      <td>2</td>\n",
       "      <td>V Kohli</td>\n",
       "      <td>I Sharma</td>\n",
       "      <td>W Jaffer</td>\n",
       "      <td>0</td>\n",
       "      <td>0</td>\n",
       "      <td>0</td>\n",
       "      <td>NaN</td>\n",
       "      <td>0</td>\n",
       "      <td>NaN</td>\n",
       "      <td>NaN</td>\n",
       "      <td>NaN</td>\n",
       "    </tr>\n",
       "    <tr>\n",
       "      <th>133</th>\n",
       "      <td>335982</td>\n",
       "      <td>2</td>\n",
       "      <td>Royal Challengers Bangalore</td>\n",
       "      <td>Kolkata Knight Riders</td>\n",
       "      <td>1</td>\n",
       "      <td>3</td>\n",
       "      <td>V Kohli</td>\n",
       "      <td>I Sharma</td>\n",
       "      <td>W Jaffer</td>\n",
       "      <td>0</td>\n",
       "      <td>4</td>\n",
       "      <td>4</td>\n",
       "      <td>legbyes</td>\n",
       "      <td>0</td>\n",
       "      <td>NaN</td>\n",
       "      <td>NaN</td>\n",
       "      <td>NaN</td>\n",
       "    </tr>\n",
       "    <tr>\n",
       "      <th>134</th>\n",
       "      <td>335982</td>\n",
       "      <td>2</td>\n",
       "      <td>Royal Challengers Bangalore</td>\n",
       "      <td>Kolkata Knight Riders</td>\n",
       "      <td>1</td>\n",
       "      <td>4</td>\n",
       "      <td>V Kohli</td>\n",
       "      <td>I Sharma</td>\n",
       "      <td>W Jaffer</td>\n",
       "      <td>1</td>\n",
       "      <td>0</td>\n",
       "      <td>1</td>\n",
       "      <td>NaN</td>\n",
       "      <td>0</td>\n",
       "      <td>NaN</td>\n",
       "      <td>NaN</td>\n",
       "      <td>NaN</td>\n",
       "    </tr>\n",
       "    <tr>\n",
       "      <th>135</th>\n",
       "      <td>335982</td>\n",
       "      <td>2</td>\n",
       "      <td>Royal Challengers Bangalore</td>\n",
       "      <td>Kolkata Knight Riders</td>\n",
       "      <td>1</td>\n",
       "      <td>5</td>\n",
       "      <td>W Jaffer</td>\n",
       "      <td>I Sharma</td>\n",
       "      <td>V Kohli</td>\n",
       "      <td>0</td>\n",
       "      <td>0</td>\n",
       "      <td>0</td>\n",
       "      <td>NaN</td>\n",
       "      <td>0</td>\n",
       "      <td>NaN</td>\n",
       "      <td>NaN</td>\n",
       "      <td>NaN</td>\n",
       "    </tr>\n",
       "    <tr>\n",
       "      <th>136</th>\n",
       "      <td>335982</td>\n",
       "      <td>2</td>\n",
       "      <td>Royal Challengers Bangalore</td>\n",
       "      <td>Kolkata Knight Riders</td>\n",
       "      <td>1</td>\n",
       "      <td>6</td>\n",
       "      <td>W Jaffer</td>\n",
       "      <td>I Sharma</td>\n",
       "      <td>V Kohli</td>\n",
       "      <td>0</td>\n",
       "      <td>0</td>\n",
       "      <td>0</td>\n",
       "      <td>NaN</td>\n",
       "      <td>0</td>\n",
       "      <td>NaN</td>\n",
       "      <td>NaN</td>\n",
       "      <td>NaN</td>\n",
       "    </tr>\n",
       "    <tr>\n",
       "      <th>...</th>\n",
       "      <td>...</td>\n",
       "      <td>...</td>\n",
       "      <td>...</td>\n",
       "      <td>...</td>\n",
       "      <td>...</td>\n",
       "      <td>...</td>\n",
       "      <td>...</td>\n",
       "      <td>...</td>\n",
       "      <td>...</td>\n",
       "      <td>...</td>\n",
       "      <td>...</td>\n",
       "      <td>...</td>\n",
       "      <td>...</td>\n",
       "      <td>...</td>\n",
       "      <td>...</td>\n",
       "      <td>...</td>\n",
       "      <td>...</td>\n",
       "    </tr>\n",
       "    <tr>\n",
       "      <th>260284</th>\n",
       "      <td>1426310</td>\n",
       "      <td>1</td>\n",
       "      <td>Royal Challengers Bengaluru</td>\n",
       "      <td>Rajasthan Royals</td>\n",
       "      <td>6</td>\n",
       "      <td>5</td>\n",
       "      <td>C Green</td>\n",
       "      <td>R Ashwin</td>\n",
       "      <td>V Kohli</td>\n",
       "      <td>0</td>\n",
       "      <td>1</td>\n",
       "      <td>1</td>\n",
       "      <td>wides</td>\n",
       "      <td>0</td>\n",
       "      <td>NaN</td>\n",
       "      <td>NaN</td>\n",
       "      <td>NaN</td>\n",
       "    </tr>\n",
       "    <tr>\n",
       "      <th>260285</th>\n",
       "      <td>1426310</td>\n",
       "      <td>1</td>\n",
       "      <td>Royal Challengers Bengaluru</td>\n",
       "      <td>Rajasthan Royals</td>\n",
       "      <td>6</td>\n",
       "      <td>6</td>\n",
       "      <td>C Green</td>\n",
       "      <td>R Ashwin</td>\n",
       "      <td>V Kohli</td>\n",
       "      <td>1</td>\n",
       "      <td>0</td>\n",
       "      <td>1</td>\n",
       "      <td>NaN</td>\n",
       "      <td>0</td>\n",
       "      <td>NaN</td>\n",
       "      <td>NaN</td>\n",
       "      <td>NaN</td>\n",
       "    </tr>\n",
       "    <tr>\n",
       "      <th>260286</th>\n",
       "      <td>1426310</td>\n",
       "      <td>1</td>\n",
       "      <td>Royal Challengers Bengaluru</td>\n",
       "      <td>Rajasthan Royals</td>\n",
       "      <td>6</td>\n",
       "      <td>7</td>\n",
       "      <td>V Kohli</td>\n",
       "      <td>R Ashwin</td>\n",
       "      <td>C Green</td>\n",
       "      <td>1</td>\n",
       "      <td>0</td>\n",
       "      <td>1</td>\n",
       "      <td>NaN</td>\n",
       "      <td>0</td>\n",
       "      <td>NaN</td>\n",
       "      <td>NaN</td>\n",
       "      <td>NaN</td>\n",
       "    </tr>\n",
       "    <tr>\n",
       "      <th>260287</th>\n",
       "      <td>1426310</td>\n",
       "      <td>1</td>\n",
       "      <td>Royal Challengers Bengaluru</td>\n",
       "      <td>Rajasthan Royals</td>\n",
       "      <td>7</td>\n",
       "      <td>1</td>\n",
       "      <td>V Kohli</td>\n",
       "      <td>YS Chahal</td>\n",
       "      <td>C Green</td>\n",
       "      <td>0</td>\n",
       "      <td>0</td>\n",
       "      <td>0</td>\n",
       "      <td>NaN</td>\n",
       "      <td>0</td>\n",
       "      <td>NaN</td>\n",
       "      <td>NaN</td>\n",
       "      <td>NaN</td>\n",
       "    </tr>\n",
       "    <tr>\n",
       "      <th>260288</th>\n",
       "      <td>1426310</td>\n",
       "      <td>1</td>\n",
       "      <td>Royal Challengers Bengaluru</td>\n",
       "      <td>Rajasthan Royals</td>\n",
       "      <td>7</td>\n",
       "      <td>2</td>\n",
       "      <td>V Kohli</td>\n",
       "      <td>YS Chahal</td>\n",
       "      <td>C Green</td>\n",
       "      <td>0</td>\n",
       "      <td>0</td>\n",
       "      <td>0</td>\n",
       "      <td>NaN</td>\n",
       "      <td>1</td>\n",
       "      <td>V Kohli</td>\n",
       "      <td>caught</td>\n",
       "      <td>D Ferreira</td>\n",
       "    </tr>\n",
       "  </tbody>\n",
       "</table>\n",
       "<p>12303 rows × 17 columns</p>\n",
       "</div>"
      ],
      "text/plain": [
       "        match_id  inning                 batting_team           bowling_team  \\\n",
       "132       335982       2  Royal Challengers Bangalore  Kolkata Knight Riders   \n",
       "133       335982       2  Royal Challengers Bangalore  Kolkata Knight Riders   \n",
       "134       335982       2  Royal Challengers Bangalore  Kolkata Knight Riders   \n",
       "135       335982       2  Royal Challengers Bangalore  Kolkata Knight Riders   \n",
       "136       335982       2  Royal Challengers Bangalore  Kolkata Knight Riders   \n",
       "...          ...     ...                          ...                    ...   \n",
       "260284   1426310       1  Royal Challengers Bengaluru       Rajasthan Royals   \n",
       "260285   1426310       1  Royal Challengers Bengaluru       Rajasthan Royals   \n",
       "260286   1426310       1  Royal Challengers Bengaluru       Rajasthan Royals   \n",
       "260287   1426310       1  Royal Challengers Bengaluru       Rajasthan Royals   \n",
       "260288   1426310       1  Royal Challengers Bengaluru       Rajasthan Royals   \n",
       "\n",
       "        over  ball    batter     bowler non_striker  batsman_runs  extra_runs  \\\n",
       "132        1     2   V Kohli   I Sharma    W Jaffer             0           0   \n",
       "133        1     3   V Kohli   I Sharma    W Jaffer             0           4   \n",
       "134        1     4   V Kohli   I Sharma    W Jaffer             1           0   \n",
       "135        1     5  W Jaffer   I Sharma     V Kohli             0           0   \n",
       "136        1     6  W Jaffer   I Sharma     V Kohli             0           0   \n",
       "...      ...   ...       ...        ...         ...           ...         ...   \n",
       "260284     6     5   C Green   R Ashwin     V Kohli             0           1   \n",
       "260285     6     6   C Green   R Ashwin     V Kohli             1           0   \n",
       "260286     6     7   V Kohli   R Ashwin     C Green             1           0   \n",
       "260287     7     1   V Kohli  YS Chahal     C Green             0           0   \n",
       "260288     7     2   V Kohli  YS Chahal     C Green             0           0   \n",
       "\n",
       "        total_runs extras_type  is_wicket player_dismissed dismissal_kind  \\\n",
       "132              0         NaN          0              NaN            NaN   \n",
       "133              4     legbyes          0              NaN            NaN   \n",
       "134              1         NaN          0              NaN            NaN   \n",
       "135              0         NaN          0              NaN            NaN   \n",
       "136              0         NaN          0              NaN            NaN   \n",
       "...            ...         ...        ...              ...            ...   \n",
       "260284           1       wides          0              NaN            NaN   \n",
       "260285           1         NaN          0              NaN            NaN   \n",
       "260286           1         NaN          0              NaN            NaN   \n",
       "260287           0         NaN          0              NaN            NaN   \n",
       "260288           0         NaN          1          V Kohli         caught   \n",
       "\n",
       "           fielder  \n",
       "132            NaN  \n",
       "133            NaN  \n",
       "134            NaN  \n",
       "135            NaN  \n",
       "136            NaN  \n",
       "...            ...  \n",
       "260284         NaN  \n",
       "260285         NaN  \n",
       "260286         NaN  \n",
       "260287         NaN  \n",
       "260288  D Ferreira  \n",
       "\n",
       "[12303 rows x 17 columns]"
      ]
     },
     "execution_count": 94,
     "metadata": {},
     "output_type": "execute_result"
    }
   ],
   "source": [
    "df_vk = df_d[(df_d['batter'] == 'V Kohli') | (df_d['non_striker'] == 'V Kohli')]"
   ]
  },
  {
   "cell_type": "code",
   "execution_count": null,
   "id": "15ca44ff-9f26-4560-933a-b1b46a543217",
   "metadata": {},
   "outputs": [],
   "source": []
  }
 ],
 "metadata": {
  "kernelspec": {
   "display_name": "Python 3 (ipykernel)",
   "language": "python",
   "name": "python3"
  },
  "language_info": {
   "codemirror_mode": {
    "name": "ipython",
    "version": 3
   },
   "file_extension": ".py",
   "mimetype": "text/x-python",
   "name": "python",
   "nbconvert_exporter": "python",
   "pygments_lexer": "ipython3",
   "version": "3.12.4"
  }
 },
 "nbformat": 4,
 "nbformat_minor": 5
}
